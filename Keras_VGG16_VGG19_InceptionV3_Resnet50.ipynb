{
  "metadata": {
    "kernelspec": {
      "language": "python",
      "display_name": "Python 3",
      "name": "python3"
    },
    "language_info": {
      "pygments_lexer": "ipython3",
      "nbconvert_exporter": "python",
      "version": "3.6.4",
      "file_extension": ".py",
      "codemirror_mode": {
        "name": "ipython",
        "version": 3
      },
      "name": "python",
      "mimetype": "text/x-python"
    },
    "colab": {
      "name": "Keras VGG16 -VGG19-InceptionV3- Resnet50",
      "provenance": [],
      "include_colab_link": true
    }
  },
  "nbformat_minor": 0,
  "nbformat": 4,
  "cells": [
    {
      "cell_type": "markdown",
      "metadata": {
        "id": "view-in-github",
        "colab_type": "text"
      },
      "source": [
        "<a href=\"https://colab.research.google.com/github/majdhammami/Prostate-cANcer-graDe-Assessment/blob/main/Keras_VGG16_VGG19_InceptionV3_Resnet50.ipynb\" target=\"_parent\"><img src=\"https://colab.research.google.com/assets/colab-badge.svg\" alt=\"Open In Colab\"/></a>"
      ]
    },
    {
      "source": [
        "\n",
        "# IMPORTANT: RUN THIS CELL IN ORDER TO IMPORT YOUR KAGGLE DATA SOURCES\n",
        "# TO THE CORRECT LOCATION (/kaggle/input) IN YOUR NOTEBOOK,\n",
        "# THEN FEEL FREE TO DELETE THIS CELL.\n",
        "# NOTE: THIS NOTEBOOK ENVIRONMENT DIFFERS FROM KAGGLE'S PYTHON\n",
        "# ENVIRONMENT SO THERE MAY BE MISSING LIBRARIES USED BY YOUR\n",
        "# NOTEBOOK.\n",
        "\n",
        "import os\n",
        "import sys\n",
        "from tempfile import NamedTemporaryFile\n",
        "from urllib.request import urlopen\n",
        "from urllib.parse import unquote, urlparse\n",
        "from urllib.error import HTTPError\n",
        "from zipfile import ZipFile\n",
        "import tarfile\n",
        "import shutil\n",
        "\n",
        "CHUNK_SIZE = 40960\n",
        "DATA_SOURCE_MAPPING = 'prostate-cancer-grade-assessment:https%3A%2F%2Fstorage.googleapis.com%2Fkaggle-competitions-data%2Fkaggle-v2%2F18647%2F1126921%2Fbundle%2Farchive.zip%3FX-Goog-Algorithm%3DGOOG4-RSA-SHA256%26X-Goog-Credential%3Dgcp-kaggle-com%2540kaggle-161607.iam.gserviceaccount.com%252F20240512%252Fauto%252Fstorage%252Fgoog4_request%26X-Goog-Date%3D20240512T213624Z%26X-Goog-Expires%3D259200%26X-Goog-SignedHeaders%3Dhost%26X-Goog-Signature%3D87b56250da9718e61d54c7cea864f74932b9678626142014b0d1e11e0a653abd25cfc13247c3b84c414491257adcb477d53fa682f117913b781fa5fe4e14f80b67339d5ff58088f5f306431ffd2a78906c107298c4673cbd109d1ac50f13a62de0590b67ab6409deb93db215834f858711780e948052d5dd5e36188022353af6c8b02dd6c044e613742cf501594f2b132db71a388ac0956c36fca1e2744c3ccba6fb4a42947820d7651c6ea7d45e6d8dd7fa80c9be624bd1720c68fac01fb8d3a8e0551fefb32ad980d347f45abb275204adade5b8f635ce70a034a907a9f4b2f2bffcb3e0a8db8402fdadeed50b8166c06559020a9b78c192b9d0ad21859e62,keras-pretrained-models:https%3A%2F%2Fstorage.googleapis.com%2Fkaggle-data-sets%2F2798%2F7251%2Fbundle%2Farchive.zip%3FX-Goog-Algorithm%3DGOOG4-RSA-SHA256%26X-Goog-Credential%3Dgcp-kaggle-com%2540kaggle-161607.iam.gserviceaccount.com%252F20240512%252Fauto%252Fstorage%252Fgoog4_request%26X-Goog-Date%3D20240512T213624Z%26X-Goog-Expires%3D259200%26X-Goog-SignedHeaders%3Dhost%26X-Goog-Signature%3D9c03f33aae2e34af7dcd3f2d10eb283d4c70751c79b20417f011a11cdbf5b07955b9453ec25ab01f61ac5082687ddc64754b8de8d71e6fcd216e55f02c8fe82afc1232f0a7c2819cb234b0089956a1e13a945f97446cbc2484dbc9474a8169cbe02f11a2366e86dd743b590a4443532155a90ebf4be4397a734b568bc19b52b7788a871f71c19106d936ff75b1eaafdac5904cd5fbbcf8b83c1a81073d4a2d403680053ce45e8a77cd0a1f7ecc461063b451252d56d9eb98474efce7fadded025079cd392b28e5529f1a26b6ed7a128bfcbb1e7e37fdc2bd1d93e52f61eef60e437a5bd5d1f66822f3096585b24f3091422d9daf93083c3af5ff8841a4ac9147,vgg19:https%3A%2F%2Fstorage.googleapis.com%2Fkaggle-data-sets%2F6303%2F9897%2Fbundle%2Farchive.zip%3FX-Goog-Algorithm%3DGOOG4-RSA-SHA256%26X-Goog-Credential%3Dgcp-kaggle-com%2540kaggle-161607.iam.gserviceaccount.com%252F20240512%252Fauto%252Fstorage%252Fgoog4_request%26X-Goog-Date%3D20240512T213624Z%26X-Goog-Expires%3D259200%26X-Goog-SignedHeaders%3Dhost%26X-Goog-Signature%3D37ac24f1e2a1b6b2506bacc521669dcfbbc210afbfbdc6df2f0bd59d045413a47cc721c702fbac43fbdd8961138bc23b4fe7b2777968ad3a5eb2cfd72e7e5302128c6cdbc44263a533ac6c2432747b9782751ec43082ce3c1bfe3d9c571f16ab4e3d2ba87c0a747713ea5675b5607907ef452c52a5624e740edebb2bac31c808345aa72492d0535240c132125bdb87259a4c8b5aa6c010be8e4cfa73d90adf1b0518abb6846b1599a02f8ba2f8197adc40db9ba9b39db0ba2f5db7bee966113dbfcc130065d297ee987099af616e773a0d7554c0e3ae2a62986541e5028fe9d7c4dc5fb586d682631eb8cb6ad295896a4ae887230fd83c4cde660510e5a5a042,inceptionv3:https%3A%2F%2Fstorage.googleapis.com%2Fkaggle-data-sets%2F6306%2F9901%2Fbundle%2Farchive.zip%3FX-Goog-Algorithm%3DGOOG4-RSA-SHA256%26X-Goog-Credential%3Dgcp-kaggle-com%2540kaggle-161607.iam.gserviceaccount.com%252F20240512%252Fauto%252Fstorage%252Fgoog4_request%26X-Goog-Date%3D20240512T213624Z%26X-Goog-Expires%3D259200%26X-Goog-SignedHeaders%3Dhost%26X-Goog-Signature%3D44508b60f8844d063841c94e6a00dfe737cbe9929086070d72e7fd642c94bb6266b670cce20ba9d0120d079c13da21bfb8a048be1cc60a63b23d2a07e84af94fadfb87de41919a6226487a0ffe79f22e23ad2d44658f098d45b52fde230a14efa90f2b23ff0f3927a7c6beacb9a9d6f2edb6deb7236b4e843d40ecc2bdc1f95e114920fca594869c7218c2c246bf20ec1fed0055a6e54282c02cb53ef031f6cdeffe79ed4f73a0dcae6fafda1fd30fde379ee3fe1b46c87c9ea0fc7a125d2b2c383bda819e0ac5f5653f8e6fc3d86b18762c6ea743a9193cf36fa1d889486bf1f28fd1e3760538b9475352e41587d405ea84740ebba4d4dc449d11cd5c36e03a,panda-resized-train-data-512x512:https%3A%2F%2Fstorage.googleapis.com%2Fkaggle-data-sets%2F615046%2F1101206%2Fbundle%2Farchive.zip%3FX-Goog-Algorithm%3DGOOG4-RSA-SHA256%26X-Goog-Credential%3Dgcp-kaggle-com%2540kaggle-161607.iam.gserviceaccount.com%252F20240512%252Fauto%252Fstorage%252Fgoog4_request%26X-Goog-Date%3D20240512T213624Z%26X-Goog-Expires%3D259200%26X-Goog-SignedHeaders%3Dhost%26X-Goog-Signature%3D0a72fbb8c8bfacbfe17bff990876704b28e1a49f3df64cad71be1d61d916141000ead86a16350edf8deb27ad5bc54fd92690fadd8a343f72f95d22956a991968f40fd3cf1c716e8de45f8c65c49ec594f38dc6e821a7a46d3a99d5ef0174ffb250cffb8504bc4e0a01bdbb48841c262ad4f81dfa3b53cdf86a081f16361e1e8b050fdd5a8ba506d32c5e8d9321c8b2625a1788ee1b7b5dfe3bf1fc479555da5d2cf37fccb255d5dfd8269620a78f96e00b65b29ad4c616ae0d18ff6ea6c677da35cf25a5f5224289ee3ec089fb821914a21308e605711f2fac87bcdc6120679c5b9ac69d6340ac5000ade7d21394b23a0f92fca12e16f71ff54a79b68832ee41,bbbbbb:https%3A%2F%2Fstorage.googleapis.com%2Fkaggle-data-sets%2F2110487%2F3506655%2Fbundle%2Farchive.zip%3FX-Goog-Algorithm%3DGOOG4-RSA-SHA256%26X-Goog-Credential%3Dgcp-kaggle-com%2540kaggle-161607.iam.gserviceaccount.com%252F20240512%252Fauto%252Fstorage%252Fgoog4_request%26X-Goog-Date%3D20240512T213624Z%26X-Goog-Expires%3D259200%26X-Goog-SignedHeaders%3Dhost%26X-Goog-Signature%3D14155180fc063b6ec708d90028c59b8a6071a857d866d9e212fe8ec9ff89ad196991a9984416eeb6307d495260c0113290dd3609574574d8886a88c3322b22bf21f338347aa695d6395dbc8242573a798565fd4cdc91e22e871ce5ab4380db6b169af24e92eb81885af50bdc9d0876540fbbd189a6d11cce5014c49e6b8da77e5f494ae4a83c2b1e9051bcc6d0aab934b5cdfcb9b1f2fc536b391ea81e13512aa038f27be511a387dc50563d99e7be6767356d5bcad024687d9cdb2a76ccfb17750f0f94c2bf0e3da05eb082c36d0ac0a33958b2e928cbe1a81d9fe374de4c7c78e3c1ed679b411f2617df2cf93f39c4a7f9b8cdfa565fc1b757b082c0cb4d56'\n",
        "\n",
        "KAGGLE_INPUT_PATH='/kaggle/input'\n",
        "KAGGLE_WORKING_PATH='/kaggle/working'\n",
        "KAGGLE_SYMLINK='kaggle'\n",
        "\n",
        "!umount /kaggle/input/ 2> /dev/null\n",
        "shutil.rmtree('/kaggle/input', ignore_errors=True)\n",
        "os.makedirs(KAGGLE_INPUT_PATH, 0o777, exist_ok=True)\n",
        "os.makedirs(KAGGLE_WORKING_PATH, 0o777, exist_ok=True)\n",
        "\n",
        "try:\n",
        "  os.symlink(KAGGLE_INPUT_PATH, os.path.join(\"..\", 'input'), target_is_directory=True)\n",
        "except FileExistsError:\n",
        "  pass\n",
        "try:\n",
        "  os.symlink(KAGGLE_WORKING_PATH, os.path.join(\"..\", 'working'), target_is_directory=True)\n",
        "except FileExistsError:\n",
        "  pass\n",
        "\n",
        "for data_source_mapping in DATA_SOURCE_MAPPING.split(','):\n",
        "    directory, download_url_encoded = data_source_mapping.split(':')\n",
        "    download_url = unquote(download_url_encoded)\n",
        "    filename = urlparse(download_url).path\n",
        "    destination_path = os.path.join(KAGGLE_INPUT_PATH, directory)\n",
        "    try:\n",
        "        with urlopen(download_url) as fileres, NamedTemporaryFile() as tfile:\n",
        "            total_length = fileres.headers['content-length']\n",
        "            print(f'Downloading {directory}, {total_length} bytes compressed')\n",
        "            dl = 0\n",
        "            data = fileres.read(CHUNK_SIZE)\n",
        "            while len(data) > 0:\n",
        "                dl += len(data)\n",
        "                tfile.write(data)\n",
        "                done = int(50 * dl / int(total_length))\n",
        "                sys.stdout.write(f\"\\r[{'=' * done}{' ' * (50-done)}] {dl} bytes downloaded\")\n",
        "                sys.stdout.flush()\n",
        "                data = fileres.read(CHUNK_SIZE)\n",
        "            if filename.endswith('.zip'):\n",
        "              with ZipFile(tfile) as zfile:\n",
        "                zfile.extractall(destination_path)\n",
        "            else:\n",
        "              with tarfile.open(tfile.name) as tarfile:\n",
        "                tarfile.extractall(destination_path)\n",
        "            print(f'\\nDownloaded and uncompressed: {directory}')\n",
        "    except HTTPError as e:\n",
        "        print(f'Failed to load (likely expired) {download_url} to path {destination_path}')\n",
        "        continue\n",
        "    except OSError as e:\n",
        "        print(f'Failed to load {download_url} to path {destination_path}')\n",
        "        continue\n",
        "\n",
        "print('Data source import complete.')\n"
      ],
      "metadata": {
        "id": "2l3AbmbcvFLy"
      },
      "cell_type": "code",
      "outputs": [],
      "execution_count": null
    },
    {
      "cell_type": "markdown",
      "source": [
        "VGG16 Baseline"
      ],
      "metadata": {
        "id": "Sns-7uIjvFLz"
      }
    },
    {
      "cell_type": "markdown",
      "source": [
        "Data-\n",
        "* train.csv:- image_id,karlonski/radhound, gleason and ISUP grade.\n",
        "* test.csv:-  image_ids and data_provider.\n",
        "* train_images:- A folder containing biopsy images in a large multilevel .tiff file, some of them will be used for testing).\n",
        "* train_label_masks:-Folder with segmentation masks showing which parts of the image led to the ISUP grade. Not all training images have label masks, and there may be false positives or false negatives in the label masks. These masks may assist with the development of strategies for selecting useful image subsamples and the values might depend also on the data provider."
      ],
      "metadata": {
        "id": "Zytvzxi-vFLz"
      }
    },
    {
      "cell_type": "code",
      "source": [
        "# This Python 3 environment comes with many helpful analytics libraries installed\n",
        "# It is defined by the kaggle/python docker image: https://github.com/kaggle/docker-python\n",
        "# For example, here's several helpful packages to load in\n",
        "\n",
        "import numpy as np # linear algebra\n",
        "import pandas as pd # data processing, CSV file I/O (e.g. pd.read_csv)\n",
        "\n",
        "# Input data files are available in the \"../input/\" directory.\n",
        "# For example, running this (by clicking run or pressing Shift+Enter) will list all files under the input directory\n",
        "import openslide\n",
        "import os\n",
        "import cv2\n",
        "import PIL\n",
        "from IPython.display import Image, display\n",
        "from keras.applications.vgg16 import VGG16,preprocess_input\n",
        "# Plotly for the interactive viewer (see last section)\n",
        "import plotly.graph_objs as go\n",
        "from sklearn.metrics import cohen_kappa_score\n",
        "from sklearn.model_selection import train_test_split\n",
        "from keras.models import Sequential, Model,load_model\n",
        "from keras.applications.vgg16 import VGG16,preprocess_input\n",
        "from keras.applications.resnet50 import ResNet50\n",
        "from keras.preprocessing.image import ImageDataGenerator,load_img, img_to_array\n",
        "from keras.models import Sequential\n",
        "from keras.layers import Conv2D, MaxPooling2D, Dense, Dropout, Input, Flatten,BatchNormalization,Activation\n",
        "from keras.layers import GlobalMaxPooling2D\n",
        "from keras.models import Model\n",
        "from keras.optimizers import Adam, SGD, RMSprop\n",
        "from keras.callbacks import ModelCheckpoint, Callback, EarlyStopping, ReduceLROnPlateau\n",
        "from keras.utils import to_categorical\n",
        "from tensorflow.keras.preprocessing.image import ImageDataGenerator\n",
        "from keras.layers.normalization import BatchNormalization\n",
        "import gc\n",
        "import matplotlib.pyplot as plt\n",
        "%matplotlib inline\n",
        "\n",
        "import skimage.io\n",
        "from sklearn.model_selection import KFold\n",
        "# for dirname, _, filenames in os.walk('/kaggle/input'):\n",
        "#     for filename in filenames:\n",
        "#         print(os.path.join(dirname, filename))\n",
        "\n",
        "# Any results you write to the current directory are saved as output.\n",
        "import tensorflow as tf\n",
        "from tensorflow.python.keras import backend as K\n",
        "sess = K.get_session()"
      ],
      "metadata": {
        "_uuid": "8f2839f25d086af736a60e9eeb907d3b93b6e0e5",
        "_cell_guid": "b1076dfc-b9ad-4769-8c92-a6c4dae69d19",
        "_kg_hide-input": true,
        "execution": {
          "iopub.status.busy": "2022-04-23T21:23:33.185363Z",
          "iopub.execute_input": "2022-04-23T21:23:33.185833Z",
          "iopub.status.idle": "2022-04-23T21:23:42.752537Z",
          "shell.execute_reply.started": "2022-04-23T21:23:33.185789Z",
          "shell.execute_reply": "2022-04-23T21:23:42.751781Z"
        },
        "trusted": true,
        "id": "-yz5vI5pvFL0"
      },
      "execution_count": null,
      "outputs": []
    },
    {
      "cell_type": "code",
      "source": [
        "from keras.callbacks.callbacks import ReduceLROnPlateau, EarlyStopping\n",
        "import tensorflow as tf\n",
        "from sklearn.preprocessing import LabelEncoder\n",
        "from keras.models import load_model\n",
        "from keras.applications.xception import Xception\n",
        "import time\n",
        "import seaborn as sns\n",
        "from sklearn.metrics import roc_curve\n",
        "from sklearn.metrics import auc"
      ],
      "metadata": {
        "execution": {
          "iopub.status.busy": "2022-04-23T21:23:42.756884Z",
          "iopub.execute_input": "2022-04-23T21:23:42.757103Z",
          "iopub.status.idle": "2022-04-23T21:23:42.857044Z",
          "shell.execute_reply.started": "2022-04-23T21:23:42.75708Z",
          "shell.execute_reply": "2022-04-23T21:23:42.856249Z"
        },
        "trusted": true,
        "id": "KH2Ga3TFvFL0"
      },
      "execution_count": null,
      "outputs": []
    },
    {
      "cell_type": "code",
      "source": [
        "\n",
        "from numpy.random import seed\n",
        "seed(1)"
      ],
      "metadata": {
        "execution": {
          "iopub.status.busy": "2022-04-23T21:23:42.859555Z",
          "iopub.execute_input": "2022-04-23T21:23:42.859992Z",
          "iopub.status.idle": "2022-04-23T21:23:42.863984Z",
          "shell.execute_reply.started": "2022-04-23T21:23:42.859953Z",
          "shell.execute_reply": "2022-04-23T21:23:42.863012Z"
        },
        "trusted": true,
        "id": "tQuxqbSXvFL0"
      },
      "execution_count": null,
      "outputs": []
    },
    {
      "cell_type": "code",
      "source": [
        "train=pd.read_csv('/kaggle/input/prostate-cancer-grade-assessment/train.csv')\n",
        "train.head()\n",
        "train_copy = train.copy()"
      ],
      "metadata": {
        "_uuid": "d629ff2d2480ee46fbb7e2d37f6b5fab8052498a",
        "_cell_guid": "79c7e3d0-c299-4dcb-8224-4455121ee9b0",
        "execution": {
          "iopub.status.busy": "2022-04-23T21:23:42.865574Z",
          "iopub.execute_input": "2022-04-23T21:23:42.866052Z",
          "iopub.status.idle": "2022-04-23T21:23:42.903021Z",
          "shell.execute_reply.started": "2022-04-23T21:23:42.866017Z",
          "shell.execute_reply": "2022-04-23T21:23:42.902394Z"
        },
        "trusted": true,
        "id": "cgycCMLFvFL0"
      },
      "execution_count": null,
      "outputs": []
    },
    {
      "cell_type": "markdown",
      "source": [
        "\n",
        "Let's take a look at one of the biopsy."
      ],
      "metadata": {
        "id": "agAaZpdKvFL0"
      }
    },
    {
      "cell_type": "code",
      "source": [
        "img=openslide.OpenSlide('/kaggle/input/prostate-cancer-grade-assessment/train_images/2fd1c7dc4a0f3a546a59717d8e9d28c3.tiff')\n",
        "display(img.get_thumbnail(size=(512,512)))"
      ],
      "metadata": {
        "execution": {
          "iopub.status.busy": "2022-04-23T21:23:42.906948Z",
          "iopub.execute_input": "2022-04-23T21:23:42.907165Z",
          "iopub.status.idle": "2022-04-23T21:23:43.213056Z",
          "shell.execute_reply.started": "2022-04-23T21:23:42.907142Z",
          "shell.execute_reply": "2022-04-23T21:23:43.212278Z"
        },
        "trusted": true,
        "id": "iEA6wWuRvFL0"
      },
      "execution_count": null,
      "outputs": []
    },
    {
      "cell_type": "code",
      "source": [
        "img.dimensions"
      ],
      "metadata": {
        "execution": {
          "iopub.status.busy": "2022-04-23T21:23:43.215905Z",
          "iopub.execute_input": "2022-04-23T21:23:43.21635Z",
          "iopub.status.idle": "2022-04-23T21:23:43.221729Z",
          "shell.execute_reply.started": "2022-04-23T21:23:43.216312Z",
          "shell.execute_reply": "2022-04-23T21:23:43.221032Z"
        },
        "trusted": true,
        "id": "rqqqFYblvFL1"
      },
      "execution_count": null,
      "outputs": []
    },
    {
      "cell_type": "markdown",
      "source": [
        "These images are pretty big in size for training I'll be using the resized 512x512 dataset uploaded by @xhlulu."
      ],
      "metadata": {
        "id": "s-Rm_yBtvFL1"
      }
    },
    {
      "cell_type": "code",
      "source": [
        "patch = img.read_region((18500,4100), 0, (256, 256))\n",
        "\n",
        "# Display the image\n",
        "display(patch)\n",
        "# Close the opened slide after use\n",
        "img.close()"
      ],
      "metadata": {
        "execution": {
          "iopub.status.busy": "2022-04-23T21:23:43.222921Z",
          "iopub.execute_input": "2022-04-23T21:23:43.223339Z",
          "iopub.status.idle": "2022-04-23T21:23:43.287139Z",
          "shell.execute_reply.started": "2022-04-23T21:23:43.223303Z",
          "shell.execute_reply": "2022-04-23T21:23:43.286434Z"
        },
        "trusted": true,
        "id": "QT3_yflMvFL1"
      },
      "execution_count": null,
      "outputs": []
    },
    {
      "cell_type": "markdown",
      "source": [
        "We are asked to predict ISUP grade(scale 0-5) for each prostate biopsy image, which is in turn derived from the gleason score(three categories 3,4,5).Before diving deeper into the competition let's try to understand these first.\n",
        "\n",
        "## Gleason Score:-\n",
        "Since prostate tumors are often made up of cancerous cells that have different grades, two grades are assigned for each patient.  A primary grade is given to describe the cells that make up the largest area of the tumor and a secondary grade is given to describe the cells of the next largest area.  For instance, if the Gleason Score is written as 3+4=7, it means most of the tumor is grade 3 and the next largest section of the tumor is grade 4, together they make up the total Gleason Score.  If the cancer is almost entirely made up of cells with the same score, the grade for that area is counted twice to calculated the total Gleason Score.\n",
        "\n",
        "The samples are made up of glandular tissue and connective tissue. The glands are hollow structures, which can be seen as white “holes” or branched cavities in the WSI. The appearance of the glands forms the basis of the Gleason grading system.\n",
        "\n",
        "![](https://www.prostateconditions.org/images/about/murtagh7e_c114_f04-2.png)\n",
        "\n",
        "\n",
        "This is how Gleason score is decided from(3-5), 5 being the most severe. To understand more [read this](https://www.kaggle.com/c/prostate-cancer-grade-assessment/overview/additional-resources).\n",
        "\n",
        "\n",
        "## ISUP grade\n",
        "According to current guidelines by the International Society of Urological Pathology (ISUP), the Gleason scores are summarized into an ISUP grade on a scale from 1 to 5 according to the following rule:\n",
        "\n",
        "* Gleason score 6 = ISUP grade 1\n",
        "* Gleason score 7 (3 + 4) = ISUP grade 2\n",
        "* Gleason score 7 (4 + 3) = ISUP grade 3\n",
        "* Gleason score 8 = ISUP grade 4\n",
        "* Gleason score 9-10 = ISUP grade 5.\n",
        "\n",
        "An example as provided on the official page of the competition can make us understand better."
      ],
      "metadata": {
        "id": "2aDUPolfvFL1"
      }
    },
    {
      "cell_type": "markdown",
      "source": [
        "![](https://storage.googleapis.com/kaggle-media/competitions/PANDA/Screen%20Shot%202020-04-08%20at%202.03.53%20PM.png)\n",
        "\n",
        "\n",
        "\n",
        "The most common (blue outline, Gleason pattern 3) and second most common (red outline, Gleason pattern 4) cancer growth patterns present in the biopsy dictate the Gleason score (3+4 for this biopsy), which in turn is converted into an ISUP grade (2 for this biopsy) following guidelines of the International Society of Urological Pathology. Biopsies not containing cancer are represented by an ISUP grade of 0 in this challenge.\n",
        "\n",
        "Let's also look at the class distribution."
      ],
      "metadata": {
        "id": "cPDgu5-1vFL1"
      }
    },
    {
      "cell_type": "code",
      "source": [
        "train['isup_grade'].value_counts()"
      ],
      "metadata": {
        "execution": {
          "iopub.status.busy": "2022-04-23T21:23:43.288109Z",
          "iopub.execute_input": "2022-04-23T21:23:43.28834Z",
          "iopub.status.idle": "2022-04-23T21:23:43.305661Z",
          "shell.execute_reply.started": "2022-04-23T21:23:43.288312Z",
          "shell.execute_reply": "2022-04-23T21:23:43.304759Z"
        },
        "trusted": true,
        "id": "SJzy77imvFL1"
      },
      "execution_count": null,
      "outputs": []
    },
    {
      "cell_type": "markdown",
      "source": [
        "The classes are imbalanced, more severe cases are underrepresented.\n",
        "\n",
        "Let's start preparing the images for training."
      ],
      "metadata": {
        "id": "Z-irqHY9vFL2"
      }
    },
    {
      "cell_type": "code",
      "source": [
        "train.head()"
      ],
      "metadata": {
        "execution": {
          "iopub.status.busy": "2022-04-23T21:23:43.307355Z",
          "iopub.execute_input": "2022-04-23T21:23:43.307684Z",
          "iopub.status.idle": "2022-04-23T21:23:43.324504Z",
          "shell.execute_reply.started": "2022-04-23T21:23:43.307647Z",
          "shell.execute_reply": "2022-04-23T21:23:43.323814Z"
        },
        "trusted": true,
        "id": "LQEHe-9NvFL2"
      },
      "execution_count": null,
      "outputs": []
    },
    {
      "cell_type": "code",
      "source": [
        "labels=[]\n",
        "data=[]\n",
        "data_dir='/kaggle/input/panda-resized-train-data-512x512/train_images/train_images/'\n",
        "for i in range(train.shape[0]):\n",
        "    data.append(data_dir + train['image_id'].iloc[i]+'.png')\n",
        "    labels.append(train['isup_grade'].iloc[i])\n",
        "df=pd.DataFrame(data)\n",
        "df.columns=['images']\n",
        "df['isup_grade']=labels"
      ],
      "metadata": {
        "execution": {
          "iopub.status.busy": "2022-04-23T21:23:43.325935Z",
          "iopub.execute_input": "2022-04-23T21:23:43.326256Z",
          "iopub.status.idle": "2022-04-23T21:23:43.70036Z",
          "shell.execute_reply.started": "2022-04-23T21:23:43.326221Z",
          "shell.execute_reply": "2022-04-23T21:23:43.699691Z"
        },
        "trusted": true,
        "id": "yovI6VRUvFL2"
      },
      "execution_count": null,
      "outputs": []
    },
    {
      "cell_type": "code",
      "source": [
        "df.head()"
      ],
      "metadata": {
        "execution": {
          "iopub.status.busy": "2022-04-23T21:23:43.702452Z",
          "iopub.execute_input": "2022-04-23T21:23:43.702685Z",
          "iopub.status.idle": "2022-04-23T21:23:43.711478Z",
          "shell.execute_reply.started": "2022-04-23T21:23:43.702662Z",
          "shell.execute_reply": "2022-04-23T21:23:43.710648Z"
        },
        "trusted": true,
        "id": "s3CPj7gwvFL2"
      },
      "execution_count": null,
      "outputs": []
    },
    {
      "cell_type": "code",
      "source": [
        "X_train, X_val, y_train, y_val = train_test_split(df['images'],df['isup_grade'], test_size=0.2, random_state=42)\n"
      ],
      "metadata": {
        "execution": {
          "iopub.status.busy": "2022-04-23T22:16:07.530839Z",
          "iopub.execute_input": "2022-04-23T22:16:07.531118Z",
          "iopub.status.idle": "2022-04-23T22:16:07.539892Z",
          "shell.execute_reply.started": "2022-04-23T22:16:07.53109Z",
          "shell.execute_reply": "2022-04-23T22:16:07.539142Z"
        },
        "trusted": true,
        "id": "fiUJ7nhSvFL2"
      },
      "execution_count": null,
      "outputs": []
    },
    {
      "cell_type": "code",
      "source": [
        "train=pd.DataFrame(X_train)\n",
        "train.columns=['images']\n",
        "train['isup_grade']=y_train\n",
        "\n",
        "validation=pd.DataFrame(X_val)\n",
        "validation.columns=['images']\n",
        "validation['isup_grade']=y_val\n",
        "\n",
        "train['isup_grade']=train['isup_grade'].astype(str)\n",
        "validation['isup_grade']=validation['isup_grade'].astype(str)"
      ],
      "metadata": {
        "execution": {
          "iopub.status.busy": "2022-04-23T22:17:21.930676Z",
          "iopub.execute_input": "2022-04-23T22:17:21.930987Z",
          "iopub.status.idle": "2022-04-23T22:17:21.956795Z",
          "shell.execute_reply.started": "2022-04-23T22:17:21.930956Z",
          "shell.execute_reply": "2022-04-23T22:17:21.956135Z"
        },
        "trusted": true,
        "id": "dgU9Odz6vFL2"
      },
      "execution_count": null,
      "outputs": []
    },
    {
      "cell_type": "markdown",
      "source": [
        "So the basic preprocessing I've done is:-\n",
        "* Normalizing the images.\n",
        "* Reshape the images to be of shape 224,224,3\n",
        "* Basic image augmentation like rotation, flipping etc."
      ],
      "metadata": {
        "id": "vVE6qLklvFL2"
      }
    },
    {
      "cell_type": "code",
      "source": [
        "#Image data generator generates varied images with the input data for better prediction for the models\n",
        "#shear is avoided since the cancerous cells look like sheared normal cells"
      ],
      "metadata": {
        "execution": {
          "iopub.status.busy": "2022-04-23T21:23:43.750671Z",
          "iopub.execute_input": "2022-04-23T21:23:43.750983Z",
          "iopub.status.idle": "2022-04-23T21:23:43.754818Z",
          "shell.execute_reply.started": "2022-04-23T21:23:43.750948Z",
          "shell.execute_reply": "2022-04-23T21:23:43.754046Z"
        },
        "trusted": true,
        "id": "FehgXxO7vFL2"
      },
      "execution_count": null,
      "outputs": []
    },
    {
      "cell_type": "code",
      "source": [
        "train_datagen = ImageDataGenerator(rescale=1./255,rotation_range=40,\n",
        "    featurewise_center=True,\n",
        "    featurewise_std_normalization=True,\n",
        "    #zoom_range=[0.8, 1.2],\n",
        "    horizontal_flip=True, vertical_flip = True,\n",
        "    brightness_range=[0.9, 1.1],\n",
        "    width_shift_range=1.0,\n",
        "    height_shift_range=1.0)#,\n",
        "    #validation_split=0.1)\n",
        "\n",
        "\n",
        "val_datagen=train_datagen = ImageDataGenerator(rescale=1./255)\n",
        "train_generator = train_datagen.flow_from_dataframe(\n",
        "    train,\n",
        "    x_col='images',\n",
        "    y_col='isup_grade',\n",
        "    target_size=(224, 224),\n",
        "    batch_size=32,\n",
        "    shuffle = True,\n",
        "    class_mode='categorical')\n",
        "\n",
        "validation_generator = val_datagen.flow_from_dataframe(\n",
        "    validation,\n",
        "    x_col='images',\n",
        "    y_col='isup_grade',\n",
        "    target_size=(224, 224),\n",
        "    batch_size=32,\n",
        "    class_mode='categorical')"
      ],
      "metadata": {
        "execution": {
          "iopub.status.busy": "2022-04-23T21:23:43.756079Z",
          "iopub.execute_input": "2022-04-23T21:23:43.756516Z",
          "iopub.status.idle": "2022-04-23T21:23:53.659685Z",
          "shell.execute_reply.started": "2022-04-23T21:23:43.75648Z",
          "shell.execute_reply": "2022-04-23T21:23:53.658898Z"
        },
        "trusted": true,
        "id": "VITQmSyRvFL2"
      },
      "execution_count": null,
      "outputs": []
    },
    {
      "cell_type": "code",
      "source": [
        "filenames = validation_generator.filenames\n",
        "nb_samples = len(filenames)\n",
        "\n"
      ],
      "metadata": {
        "execution": {
          "iopub.status.busy": "2022-04-23T21:23:53.660977Z",
          "iopub.execute_input": "2022-04-23T21:23:53.661408Z",
          "iopub.status.idle": "2022-04-23T21:23:53.665833Z",
          "shell.execute_reply.started": "2022-04-23T21:23:53.66137Z",
          "shell.execute_reply": "2022-04-23T21:23:53.664875Z"
        },
        "trusted": true,
        "id": "0MKJusOsvFL2"
      },
      "execution_count": null,
      "outputs": []
    },
    {
      "cell_type": "code",
      "source": [
        "y_true = validation_generator.classes\n",
        "\n"
      ],
      "metadata": {
        "execution": {
          "iopub.status.busy": "2022-04-23T21:23:53.667104Z",
          "iopub.execute_input": "2022-04-23T21:23:53.667575Z",
          "iopub.status.idle": "2022-04-23T21:23:53.675262Z",
          "shell.execute_reply.started": "2022-04-23T21:23:53.667539Z",
          "shell.execute_reply": "2022-04-23T21:23:53.674646Z"
        },
        "trusted": true,
        "id": "msEBtG_hvFL2"
      },
      "execution_count": null,
      "outputs": []
    },
    {
      "cell_type": "code",
      "source": [
        "#y_true"
      ],
      "metadata": {
        "execution": {
          "iopub.status.busy": "2022-04-23T21:23:53.676755Z",
          "iopub.execute_input": "2022-04-23T21:23:53.67721Z",
          "iopub.status.idle": "2022-04-23T21:23:53.683396Z",
          "shell.execute_reply.started": "2022-04-23T21:23:53.677177Z",
          "shell.execute_reply": "2022-04-23T21:23:53.68281Z"
        },
        "trusted": true,
        "id": "qVH0mQ4vvFL2"
      },
      "execution_count": null,
      "outputs": []
    },
    {
      "cell_type": "code",
      "source": [
        "#VGG16 model"
      ],
      "metadata": {
        "execution": {
          "iopub.status.busy": "2022-04-23T21:23:53.684968Z",
          "iopub.execute_input": "2022-04-23T21:23:53.685405Z",
          "iopub.status.idle": "2022-04-23T21:23:53.692207Z",
          "shell.execute_reply.started": "2022-04-23T21:23:53.685367Z",
          "shell.execute_reply": "2022-04-23T21:23:53.691514Z"
        },
        "trusted": true,
        "id": "87wP3AFQvFL3"
      },
      "execution_count": null,
      "outputs": []
    },
    {
      "cell_type": "code",
      "source": [
        "def vgg16_model( num_classes=None):\n",
        "\n",
        "    model = VGG16(weights='/kaggle/input/keras-pretrained-models/vgg16_weights_tf_dim_ordering_tf_kernels_notop.h5', include_top=False, input_shape=(224, 224, 3))\n",
        "    #x=Dropout(0.2)(model.output)\n",
        "    x=Flatten()(model.output)\n",
        "    #x =Dense(32, activation = 'relu')(x)\n",
        "    output=Dense(num_classes,activation='softmax')(x)\n",
        "    model=Model(model.input,output)\n",
        "    return model\n",
        "\n",
        "#vgg_conv=vgg16_model(6)"
      ],
      "metadata": {
        "execution": {
          "iopub.status.busy": "2022-04-23T21:23:53.693712Z",
          "iopub.execute_input": "2022-04-23T21:23:53.693985Z",
          "iopub.status.idle": "2022-04-23T21:23:53.702022Z",
          "shell.execute_reply.started": "2022-04-23T21:23:53.693954Z",
          "shell.execute_reply": "2022-04-23T21:23:53.701265Z"
        },
        "trusted": true,
        "id": "1nvAKjRYvFL3"
      },
      "execution_count": null,
      "outputs": []
    },
    {
      "cell_type": "code",
      "source": [
        "#VGG19 model-- Uncomment last line to run the model"
      ],
      "metadata": {
        "execution": {
          "iopub.status.busy": "2022-04-23T21:23:53.703904Z",
          "iopub.execute_input": "2022-04-23T21:23:53.70433Z",
          "iopub.status.idle": "2022-04-23T21:23:53.710126Z",
          "shell.execute_reply.started": "2022-04-23T21:23:53.704267Z",
          "shell.execute_reply": "2022-04-23T21:23:53.709503Z"
        },
        "trusted": true,
        "id": "lwGrYOHzvFL3"
      },
      "execution_count": null,
      "outputs": []
    },
    {
      "cell_type": "code",
      "source": [
        "from keras.applications.vgg19 import VGG19\n",
        "def vgg19_model(num_classes = None):\n",
        "    #vgg19_weights = '../input/vgg19/vgg19_weights_tf_dim_ordering_tf_kernels.h5'\n",
        "    model = VGG19(weights='imagenet',include_top=False, input_shape=(224, 224, 3))\n",
        "    #model = VGG19(weights='/input/vgg19/vgg19_weights_tf_dim_ordering_tf_kernels.h5', include_top=False, input_shape=(224, 224, 3))\n",
        "    x=Dropout(0.3)(model.output)\n",
        "    x=Flatten()(x)\n",
        "    x =Dense(32, activation = 'relu')(x)\n",
        "    x =Dropout(0.2)(x)\n",
        "    output=Dense(num_classes,activation='softmax')(x)\n",
        "    model=Model(model.input,output)\n",
        "    return model\n",
        "#vgg19_conv = vgg19_model(6)"
      ],
      "metadata": {
        "execution": {
          "iopub.status.busy": "2022-04-23T21:23:53.711602Z",
          "iopub.execute_input": "2022-04-23T21:23:53.711935Z",
          "iopub.status.idle": "2022-04-23T21:23:53.720485Z",
          "shell.execute_reply.started": "2022-04-23T21:23:53.711898Z",
          "shell.execute_reply": "2022-04-23T21:23:53.719722Z"
        },
        "trusted": true,
        "id": "uj9UDKuZvFL3"
      },
      "execution_count": null,
      "outputs": []
    },
    {
      "cell_type": "code",
      "source": [
        "#InceptionV3 model- Uncomment last line to run the model"
      ],
      "metadata": {
        "execution": {
          "iopub.status.busy": "2022-04-23T21:23:53.721879Z",
          "iopub.execute_input": "2022-04-23T21:23:53.722304Z",
          "iopub.status.idle": "2022-04-23T21:23:53.729992Z",
          "shell.execute_reply.started": "2022-04-23T21:23:53.722271Z",
          "shell.execute_reply": "2022-04-23T21:23:53.729231Z"
        },
        "trusted": true,
        "id": "Cf5x6S_2vFL3"
      },
      "execution_count": null,
      "outputs": []
    },
    {
      "cell_type": "code",
      "source": [
        "from keras.applications.inception_v3 import InceptionV3\n",
        "def InceptionV3_model(num_classes = None):\n",
        "    InceptionV3_weights = '../input/inceptionv3/inception_v3_weights_tf_dim_ordering_tf_kernels_notop.h5'\n",
        "    #model = ResNet50(weights='imagenet', include_top = False, input_shape = (224,224,3))\n",
        "    model = InceptionV3(weights= InceptionV3_weights, include_top=False, input_shape=(224, 224, 3))\n",
        "    #model = InceptionV3(weights='imagenet', include_top = False, input_shape = (224,224,3))\n",
        "    x=Dropout(0.3)(model.output)\n",
        "    #x=Flatten()(model.output)\n",
        "    #x =Dense(64, activation = 'relu')(model.output)\n",
        "    #x = tf.compat.v1.keras.layers.GlobalAveragePooling2D()(model.output)\n",
        "    x=Flatten()(x)\n",
        "    #x =Dropout(0.2)(x)\n",
        "    x =Dense(32, activation = 'relu')(x)\n",
        "    x =Dropout(0.2)(x)\n",
        "    output=Dense(num_classes,activation='softmax')(x)\n",
        "    model=Model(model.input,output)\n",
        "    return model\n",
        "InceptionV3_conv = InceptionV3_model(6)"
      ],
      "metadata": {
        "execution": {
          "iopub.status.busy": "2022-04-23T21:23:53.73145Z",
          "iopub.execute_input": "2022-04-23T21:23:53.731831Z",
          "iopub.status.idle": "2022-04-23T21:23:59.844839Z",
          "shell.execute_reply.started": "2022-04-23T21:23:53.731794Z",
          "shell.execute_reply": "2022-04-23T21:23:59.844149Z"
        },
        "trusted": true,
        "id": "ZuKCOFyrvFL3"
      },
      "execution_count": null,
      "outputs": []
    },
    {
      "cell_type": "code",
      "source": [
        "#Resnet50 model- Uncomment last line to run the model"
      ],
      "metadata": {
        "execution": {
          "iopub.status.busy": "2022-04-23T21:23:59.846412Z",
          "iopub.execute_input": "2022-04-23T21:23:59.846823Z",
          "iopub.status.idle": "2022-04-23T21:23:59.850004Z",
          "shell.execute_reply.started": "2022-04-23T21:23:59.846786Z",
          "shell.execute_reply": "2022-04-23T21:23:59.84931Z"
        },
        "trusted": true,
        "id": "OicmTAKrvFL3"
      },
      "execution_count": null,
      "outputs": []
    },
    {
      "cell_type": "code",
      "source": [
        "#!pip install tensorflow==2.1.0"
      ],
      "metadata": {
        "execution": {
          "iopub.status.busy": "2022-04-23T21:23:59.851219Z",
          "iopub.execute_input": "2022-04-23T21:23:59.85164Z",
          "iopub.status.idle": "2022-04-23T21:23:59.860031Z",
          "shell.execute_reply.started": "2022-04-23T21:23:59.8516Z",
          "shell.execute_reply": "2022-04-23T21:23:59.859281Z"
        },
        "trusted": true,
        "id": "s0RbhGr8vFL3"
      },
      "execution_count": null,
      "outputs": []
    },
    {
      "cell_type": "code",
      "source": [
        "from keras.applications.resnet50 import ResNet50\n",
        "def ResNet50_model(num_classes = None):\n",
        "    ResNet_weights = '../input/keras-pretrained-models/resnet50_weights_tf_dim_ordering_tf_kernels_notop.h5'\n",
        "    #model = ResNet50(weights='imagenet', include_top = False, input_shape = (224,224,3))\n",
        "    model = ResNet50(weights= ResNet_weights, include_top=False, input_shape=(224, 224, 3))\n",
        "    #x=Dropout(0.2)(model.output)\n",
        "    #x = GlobalAveragePooling2D()(model.output)\n",
        "    x=Flatten()(model.output)\n",
        "    #x =Dropout(0.2)(x)\n",
        "    x =Dense(16, activation = 'relu')(x)\n",
        "    x =Dropout(0.2)(x)\n",
        "    output=Dense(num_classes,activation='softmax')(x)\n",
        "    model=Model(model.input,output)\n",
        "    return model\n",
        "#ResNet50_conv = ResNet50_model(6)"
      ],
      "metadata": {
        "execution": {
          "iopub.status.busy": "2022-04-23T21:23:59.861341Z",
          "iopub.execute_input": "2022-04-23T21:23:59.861717Z",
          "iopub.status.idle": "2022-04-23T21:23:59.869734Z",
          "shell.execute_reply.started": "2022-04-23T21:23:59.861681Z",
          "shell.execute_reply": "2022-04-23T21:23:59.869044Z"
        },
        "trusted": true,
        "id": "DOZOybBOvFL4"
      },
      "execution_count": null,
      "outputs": []
    },
    {
      "cell_type": "code",
      "source": [
        "from keras.applications import InceptionResNetV2\n",
        "def InceptionResnet_model(num_classes = None):\n",
        "    InceptionResnet_weights = '../input/inceptionresnetv2/inception_resnet_v2_weights_tf_dim_ordering_tf_kernels_notop.h5'\n",
        "    #model = inception_resnet_v2(weights='imagenet', include_top = False, input_shape = (224,224,3))\n",
        "    model = InceptionResNetV2(weights= InceptionResnet_weights, include_top=False, input_shape=(224, 224, 3))\n",
        "    #x=Dropout(0.2)(model.output)\n",
        "    #x = GlobalAveragePooling2D()(model.output)\n",
        "    x=Flatten()(model.output)\n",
        "    #x =Dropout(0.2)(x)\n",
        "    x =Dense(16, activation = 'relu')(x)\n",
        "    x =Dropout(0.2)(x)\n",
        "    output=Dense(num_classes,activation='softmax')(x)\n",
        "    model=Model(model.input,output)\n",
        "    return model\n",
        "#InceptionResnet_conv = InceptionResnet_model(6)"
      ],
      "metadata": {
        "execution": {
          "iopub.status.busy": "2022-04-23T21:23:59.870885Z",
          "iopub.execute_input": "2022-04-23T21:23:59.871295Z",
          "iopub.status.idle": "2022-04-23T21:23:59.881296Z",
          "shell.execute_reply.started": "2022-04-23T21:23:59.871259Z",
          "shell.execute_reply": "2022-04-23T21:23:59.880417Z"
        },
        "trusted": true,
        "id": "U21VgT5IvFL4"
      },
      "execution_count": null,
      "outputs": []
    },
    {
      "cell_type": "markdown",
      "source": [
        "Let's take a look at the architecture."
      ],
      "metadata": {
        "id": "m4L7t6W_vFL4"
      }
    },
    {
      "cell_type": "code",
      "source": [
        "#Uncomment any one to run the corresponding summary"
      ],
      "metadata": {
        "execution": {
          "iopub.status.busy": "2022-04-23T21:23:59.882556Z",
          "iopub.execute_input": "2022-04-23T21:23:59.882847Z",
          "iopub.status.idle": "2022-04-23T21:23:59.890369Z",
          "shell.execute_reply.started": "2022-04-23T21:23:59.882813Z",
          "shell.execute_reply": "2022-04-23T21:23:59.889761Z"
        },
        "trusted": true,
        "id": "6gmnJuf4vFL4"
      },
      "execution_count": null,
      "outputs": []
    },
    {
      "cell_type": "code",
      "source": [
        "#vgg_conv.summary()"
      ],
      "metadata": {
        "execution": {
          "iopub.status.busy": "2022-04-23T21:23:59.893134Z",
          "iopub.execute_input": "2022-04-23T21:23:59.893321Z",
          "iopub.status.idle": "2022-04-23T21:23:59.898314Z",
          "shell.execute_reply.started": "2022-04-23T21:23:59.893301Z",
          "shell.execute_reply": "2022-04-23T21:23:59.897575Z"
        },
        "trusted": true,
        "id": "BXnu-D8avFL8"
      },
      "execution_count": null,
      "outputs": []
    },
    {
      "cell_type": "code",
      "source": [
        "#vgg19_conv.summary()"
      ],
      "metadata": {
        "execution": {
          "iopub.status.busy": "2022-04-23T21:23:59.899917Z",
          "iopub.execute_input": "2022-04-23T21:23:59.900248Z",
          "iopub.status.idle": "2022-04-23T21:23:59.906499Z",
          "shell.execute_reply.started": "2022-04-23T21:23:59.900217Z",
          "shell.execute_reply": "2022-04-23T21:23:59.905732Z"
        },
        "trusted": true,
        "id": "6byWmKI1vFL8"
      },
      "execution_count": null,
      "outputs": []
    },
    {
      "cell_type": "code",
      "source": [
        "\n",
        "InceptionV3_conv.summary()"
      ],
      "metadata": {
        "execution": {
          "iopub.status.busy": "2022-04-23T21:23:59.912743Z",
          "iopub.execute_input": "2022-04-23T21:23:59.912933Z",
          "iopub.status.idle": "2022-04-23T21:23:59.967307Z",
          "shell.execute_reply.started": "2022-04-23T21:23:59.912912Z",
          "shell.execute_reply": "2022-04-23T21:23:59.964839Z"
        },
        "trusted": true,
        "id": "ksoaHwfHvFL8"
      },
      "execution_count": null,
      "outputs": []
    },
    {
      "cell_type": "code",
      "source": [
        "#ResNet50_conv.summary()"
      ],
      "metadata": {
        "execution": {
          "iopub.status.busy": "2022-04-23T21:23:59.969448Z",
          "iopub.execute_input": "2022-04-23T21:23:59.96971Z",
          "iopub.status.idle": "2022-04-23T21:23:59.975554Z",
          "shell.execute_reply.started": "2022-04-23T21:23:59.96968Z",
          "shell.execute_reply": "2022-04-23T21:23:59.974086Z"
        },
        "trusted": true,
        "id": "yVrdZPItvFL8"
      },
      "execution_count": null,
      "outputs": []
    },
    {
      "cell_type": "code",
      "source": [
        "#InceptionResnet_conv.summary()"
      ],
      "metadata": {
        "execution": {
          "iopub.status.busy": "2022-04-23T21:23:59.977034Z",
          "iopub.execute_input": "2022-04-23T21:23:59.97732Z",
          "iopub.status.idle": "2022-04-23T21:23:59.987291Z",
          "shell.execute_reply.started": "2022-04-23T21:23:59.977266Z",
          "shell.execute_reply": "2022-04-23T21:23:59.986379Z"
        },
        "trusted": true,
        "id": "cVYIk_OGvFL8"
      },
      "execution_count": null,
      "outputs": []
    },
    {
      "cell_type": "code",
      "source": [
        "#Including batch Normalization"
      ],
      "metadata": {
        "execution": {
          "iopub.status.busy": "2022-04-23T21:23:59.988712Z",
          "iopub.execute_input": "2022-04-23T21:23:59.989151Z",
          "iopub.status.idle": "2022-04-23T21:23:59.996638Z",
          "shell.execute_reply.started": "2022-04-23T21:23:59.989113Z",
          "shell.execute_reply": "2022-04-23T21:23:59.995623Z"
        },
        "trusted": true,
        "id": "rL2f3o9YvFL8"
      },
      "execution_count": null,
      "outputs": []
    },
    {
      "cell_type": "code",
      "source": [
        "def freeze(model):\n",
        "    # freeze layers before 99\n",
        "    for layer in model.layers[:99]:\n",
        "        layer.trainable = False\n",
        "        if layer.name.startswith('batch_normalization'):\n",
        "            layer.trainable = True\n",
        "        if layer.name.endswith('bn'):\n",
        "            layer.trainable = True\n",
        "\n",
        "    # unfreeze layers after 99\n",
        "    for layer in model.layers[99:]:\n",
        "        layer.trainable = True\n",
        "\n",
        "\n",
        "\n",
        "\n",
        ""
      ],
      "metadata": {
        "execution": {
          "iopub.status.busy": "2022-04-23T21:23:59.99825Z",
          "iopub.execute_input": "2022-04-23T21:23:59.998646Z",
          "iopub.status.idle": "2022-04-23T21:24:00.006494Z",
          "shell.execute_reply.started": "2022-04-23T21:23:59.998605Z",
          "shell.execute_reply": "2022-04-23T21:24:00.00478Z"
        },
        "trusted": true,
        "id": "CHC02OX2vFL9"
      },
      "execution_count": null,
      "outputs": []
    },
    {
      "cell_type": "code",
      "source": [
        "#freeze(vgg_conv)\n",
        "#freeze(vgg19_conv)\n",
        "freeze(InceptionV3_conv)\n",
        "#freeze(ResNet50_conv)"
      ],
      "metadata": {
        "execution": {
          "iopub.status.busy": "2022-04-23T21:24:00.008185Z",
          "iopub.execute_input": "2022-04-23T21:24:00.008643Z",
          "iopub.status.idle": "2022-04-23T21:24:00.021934Z",
          "shell.execute_reply.started": "2022-04-23T21:24:00.008606Z",
          "shell.execute_reply": "2022-04-23T21:24:00.020755Z"
        },
        "trusted": true,
        "id": "mQRXZecxvFL9"
      },
      "execution_count": null,
      "outputs": []
    },
    {
      "cell_type": "code",
      "source": [
        "y_pred = np.argmax(InceptionV3_conv.predict_generator(validation_generator, steps= len(validation_generator)), axis=1)"
      ],
      "metadata": {
        "execution": {
          "iopub.status.busy": "2022-04-23T21:24:00.023361Z",
          "iopub.execute_input": "2022-04-23T21:24:00.023812Z",
          "iopub.status.idle": "2022-04-23T21:24:14.58803Z",
          "shell.execute_reply.started": "2022-04-23T21:24:00.023769Z",
          "shell.execute_reply": "2022-04-23T21:24:14.586585Z"
        },
        "trusted": true,
        "id": "AZukR84jvFL9"
      },
      "execution_count": null,
      "outputs": []
    },
    {
      "cell_type": "code",
      "source": [
        "#kappa score is the metric we use since two types of evaluation is done on the data set\n",
        "\n",
        "#The kappa statistic.\n",
        "#According to Cohen's original article,\n",
        "#values ≤ 0 as indicating no agreement and 0.01–0.20 as none to slight,\n",
        "#0.21–0.40 as fair, 0.41– 0.60 as moderate,\n",
        "#0.61–0.80 as substantial,\n",
        "#0.81–1.00 as almost perfect agreement."
      ],
      "metadata": {
        "execution": {
          "iopub.status.busy": "2022-04-23T21:24:14.589681Z",
          "iopub.execute_input": "2022-04-23T21:24:14.593364Z",
          "iopub.status.idle": "2022-04-23T21:24:14.600264Z",
          "shell.execute_reply.started": "2022-04-23T21:24:14.593321Z",
          "shell.execute_reply": "2022-04-23T21:24:14.598364Z"
        },
        "trusted": true,
        "id": "sJQx6LH8vFL9"
      },
      "execution_count": null,
      "outputs": []
    },
    {
      "cell_type": "code",
      "source": [
        "def kappa_score(y_true, y_pred):\n",
        "\n",
        "    y_true=tf.math.argmax(y_true)\n",
        "    y_pred=tf.math.argmax(y_pred)\n",
        "    #return tf.compat.v1.py_func(cohen_kappa_score,(y_true, y_pred),tf.double)\n",
        "    return tf.compat.v1.py_func(cohen_kappa_score,(y_true,y_pred),tf.double)\n",
        "    #return (y_true,y_pred)"
      ],
      "metadata": {
        "execution": {
          "iopub.status.busy": "2022-04-23T21:24:14.60337Z",
          "iopub.execute_input": "2022-04-23T21:24:14.604801Z",
          "iopub.status.idle": "2022-04-23T21:24:14.615437Z",
          "shell.execute_reply.started": "2022-04-23T21:24:14.604764Z",
          "shell.execute_reply": "2022-04-23T21:24:14.614645Z"
        },
        "trusted": true,
        "id": "wlUPEmgsvFL9"
      },
      "execution_count": null,
      "outputs": []
    },
    {
      "cell_type": "code",
      "source": [
        "import numpy as np\n",
        "from sklearn.metrics import cohen_kappa_score\n",
        "from sklearn.metrics import confusion_matrix\n",
        "\n",
        "import keras.backend as K\n",
        "import tensorflow as tf\n",
        "\n",
        "\n",
        "def kappa_keras(y_true, y_pred):\n",
        "\n",
        "    y_true = K.cast(K.argmax(y_true, axis=-1), dtype='int32')\n",
        "    y_pred = K.cast(K.argmax(y_pred, axis=-1), dtype='int32')\n",
        "    #print(y_true)\n",
        "    #print(y_pred)\n",
        "    # Figure out normalized expected values\n",
        "    min_rating = K.minimum(K.min(y_true), K.min(y_pred))\n",
        "    max_rating = K.maximum(K.max(y_true), K.max(y_pred))\n",
        "\n",
        "    # shift the values so that the lowest value is 0\n",
        "    # (to support scales that include negative values)\n",
        "    y_true = K.map_fn(lambda y: y - min_rating, y_true, dtype='int32')\n",
        "    y_pred = K.map_fn(lambda y: y - min_rating, y_pred, dtype='int32')\n",
        "\n",
        "    # Build the observed/confusion matrix\n",
        "    num_ratings = max_rating - min_rating + 1\n",
        "    observed = tf.math.confusion_matrix(y_true, y_pred,\n",
        "                                num_classes=num_ratings)\n",
        "    num_scored_items = K.shape(y_true)[0]\n",
        "\n",
        "    weights = K.expand_dims(K.arange(num_ratings), axis=-1) - K.expand_dims(K.arange(num_ratings), axis=0)\n",
        "    weights = K.cast(K.pow(weights, 2), dtype='float64')\n",
        "\n",
        "    hist_true = tf.math.bincount(y_true, minlength=num_ratings)\n",
        "    hist_true = hist_true[:num_ratings] / num_scored_items\n",
        "    hist_pred = tf.math.bincount(y_pred, minlength=num_ratings)\n",
        "    hist_pred = hist_pred[:num_ratings] / num_scored_items\n",
        "    expected = K.dot(K.expand_dims(hist_true, axis=-1), K.expand_dims(hist_pred, axis=0))\n",
        "\n",
        "    # Normalize observed array\n",
        "    observed = observed / num_scored_items\n",
        "\n",
        "    # If all weights are zero, that means no disagreements matter.\n",
        "    score = tf.where(K.any(K.not_equal(weights, 0)),\n",
        "                     K.sum(weights * observed) / K.sum(weights * expected),\n",
        "                     0)\n",
        "\n",
        "    return 1. - score\n",
        "\n",
        "if __name__ == '__main__':\n",
        "    y_true = np.array([2, 0, 2, 2, 0, 1])\n",
        "    y_pred = np.array([0, 0, 2, 2, 0, 2])\n",
        "    # Testing Keras implementation of QWK\n",
        "\n",
        "    # Calculating QWK score with scikit-learn\n",
        "\n",
        "    skl_score = cohen_kappa_score(y_true, y_pred, weights='quadratic')\n",
        "\n",
        "    # Keras implementation of QWK work with one hot encoding labels and predictions (also it works with softmax probabilities)\n",
        "    # Converting arrays to one hot encoded representation\n",
        "    shape = (y_true.shape[0], np.maximum(y_true.max(), y_pred.max()) + 1)\n",
        "\n",
        "    y_true_ohe = np.zeros(shape)\n",
        "    y_true_ohe[np.arange(shape[0]), y_true] = 1\n",
        "\n",
        "    y_pred_ohe = np.zeros(shape)\n",
        "    y_pred_ohe[np.arange(shape[0]), y_pred] = 1\n",
        "\n",
        "    # Calculating QWK score with Keras\n",
        "    with tf.compat.v1.Session() as sess:\n",
        "        keras_score = kappa_keras(y_true_ohe, y_pred_ohe).eval()\n",
        "\n",
        "    #print('Scikit-learn score: {:.03}, Keras score: {:.03}'.format(skl_score, keras_score))\n",
        ""
      ],
      "metadata": {
        "execution": {
          "iopub.status.busy": "2022-04-23T21:24:14.61826Z",
          "iopub.execute_input": "2022-04-23T21:24:14.619763Z",
          "iopub.status.idle": "2022-04-23T21:24:15.029461Z",
          "shell.execute_reply.started": "2022-04-23T21:24:14.619728Z",
          "shell.execute_reply": "2022-04-23T21:24:15.028651Z"
        },
        "trusted": true,
        "id": "TGawVSQuvFL9"
      },
      "execution_count": null,
      "outputs": []
    },
    {
      "cell_type": "markdown",
      "source": [
        "Hyperparameter Tuning"
      ],
      "metadata": {
        "id": "er3d9dUbvFL9"
      }
    },
    {
      "cell_type": "code",
      "source": [
        "opt = SGD(lr= 0.0005, momentum=0.9,decay=1e-4)\n",
        "#vgg_conv.compile(loss='binary_crossentropy',optimizer=opt,metrics=[kappa_keras, 'accuracy'])\n",
        "#vgg19_conv.compile(loss='binary_crossentropy',optimizer=opt,metrics=[kappa_keras, 'accuracy'])\n",
        "InceptionV3_conv.compile(loss='binary_crossentropy',optimizer=opt,metrics=[kappa_score,kappa_keras,'accuracy'])\n",
        "#ResNet50_conv.compile(loss='binary_crossentropy',optimizer=opt,metrics=[kappa_score,kappa_keras, 'accuracy'])\n",
        "#InceptionResnet_conv.compile(loss='binary_crossentropy',optimizer=opt,metrics=[kappa_score,kappa_keras, 'accuracy'])"
      ],
      "metadata": {
        "execution": {
          "iopub.status.busy": "2022-04-23T21:24:15.032958Z",
          "iopub.execute_input": "2022-04-23T21:24:15.033179Z",
          "iopub.status.idle": "2022-04-23T21:24:15.433983Z",
          "shell.execute_reply.started": "2022-04-23T21:24:15.033155Z",
          "shell.execute_reply": "2022-04-23T21:24:15.433233Z"
        },
        "trusted": true,
        "id": "zTrCzNOavFL9"
      },
      "execution_count": null,
      "outputs": []
    },
    {
      "cell_type": "code",
      "source": [
        "nb_epochs = 4\n",
        "batch_size=32\n",
        "nb_train_steps = train.shape[0]//batch_size\n",
        "nb_val_steps=validation.shape[0]//batch_size\n",
        "#nb_train_steps = 128\n",
        "#nb_val_steps = 64\n",
        "print(\"Number of training and validation steps: {} and {}\".format(nb_train_steps,nb_val_steps))"
      ],
      "metadata": {
        "execution": {
          "iopub.status.busy": "2022-04-23T22:18:00.174121Z",
          "iopub.execute_input": "2022-04-23T22:18:00.174384Z",
          "iopub.status.idle": "2022-04-23T22:18:00.18159Z",
          "shell.execute_reply.started": "2022-04-23T22:18:00.174358Z",
          "shell.execute_reply": "2022-04-23T22:18:00.178658Z"
        },
        "trusted": true,
        "id": "l_C42JZpvFL9"
      },
      "execution_count": null,
      "outputs": []
    },
    {
      "cell_type": "code",
      "source": [
        "#vgg_conv.fit_generator( train_generator,steps_per_epoch=nb_train_steps,epochs=10,validation_data=validation_generator,\n",
        "#validation_steps=nb_val_steps),\n"
      ],
      "metadata": {
        "execution": {
          "iopub.status.busy": "2022-04-23T21:24:15.444539Z",
          "iopub.execute_input": "2022-04-23T21:24:15.445027Z",
          "iopub.status.idle": "2022-04-23T21:24:15.451889Z",
          "shell.execute_reply.started": "2022-04-23T21:24:15.44499Z",
          "shell.execute_reply": "2022-04-23T21:24:15.451319Z"
        },
        "trusted": true,
        "id": "qnzge4kOvFL9"
      },
      "execution_count": null,
      "outputs": []
    },
    {
      "cell_type": "code",
      "source": [
        "#generator to activate the augmentation.\n",
        "callbacks = [ReduceLROnPlateau(monitor='val_loss', patience=1, verbose=1, factor=0.5),\n",
        "             EarlyStopping(monitor='val_loss', patience=1),\n",
        "             ModelCheckpoint(filepath='best_model.h5', monitor='val_loss', save_best_only=True)]"
      ],
      "metadata": {
        "execution": {
          "iopub.status.busy": "2022-04-24T02:25:02.2197Z",
          "iopub.execute_input": "2022-04-24T02:25:02.220051Z",
          "iopub.status.idle": "2022-04-24T02:25:02.23645Z",
          "shell.execute_reply.started": "2022-04-24T02:25:02.220022Z",
          "shell.execute_reply": "2022-04-24T02:25:02.235091Z"
        },
        "trusted": true,
        "id": "xCxsMdH2vFL-"
      },
      "execution_count": null,
      "outputs": []
    },
    {
      "cell_type": "code",
      "source": [
        "#tensorboard_callback = tf.keras.callbacks.TensorBoard(log_dir=\"./logs\")"
      ],
      "metadata": {
        "execution": {
          "iopub.status.busy": "2022-04-23T21:24:15.46335Z",
          "iopub.execute_input": "2022-04-23T21:24:15.463676Z",
          "iopub.status.idle": "2022-04-23T21:24:15.472826Z",
          "shell.execute_reply.started": "2022-04-23T21:24:15.463641Z",
          "shell.execute_reply": "2022-04-23T21:24:15.472127Z"
        },
        "trusted": true,
        "id": "BQh1pbTvvFL-"
      },
      "execution_count": null,
      "outputs": []
    },
    {
      "cell_type": "code",
      "source": [],
      "metadata": {
        "trusted": true,
        "id": "3oL2FP0rvFL-"
      },
      "execution_count": null,
      "outputs": []
    },
    {
      "cell_type": "code",
      "source": [
        "#history =vgg19_conv.fit_generator( train_generator,steps_per_epoch=nb_train_steps,epochs=5,validation_data=validation_generator,validation_steps=nb_val_steps,callbacks = callbacks)"
      ],
      "metadata": {
        "execution": {
          "iopub.status.busy": "2022-04-23T21:24:15.474444Z",
          "iopub.execute_input": "2022-04-23T21:24:15.47476Z",
          "iopub.status.idle": "2022-04-23T21:24:15.481284Z",
          "shell.execute_reply.started": "2022-04-23T21:24:15.474725Z",
          "shell.execute_reply": "2022-04-23T21:24:15.480558Z"
        },
        "trusted": true,
        "id": "yTGSW8xNvFL-"
      },
      "execution_count": null,
      "outputs": []
    },
    {
      "cell_type": "code",
      "source": [
        "#history=ResNet50_conv.fit_generator( train_generator,steps_per_epoch=nb_train_steps,epochs=20,validation_data=validation_generator,\n",
        "#validation_steps=nb_val_steps, callbacks = callbacks)"
      ],
      "metadata": {
        "execution": {
          "iopub.status.busy": "2022-04-23T21:36:57.256897Z",
          "iopub.execute_input": "2022-04-23T21:36:57.257219Z",
          "iopub.status.idle": "2022-04-23T21:36:57.261874Z",
          "shell.execute_reply.started": "2022-04-23T21:36:57.257181Z",
          "shell.execute_reply": "2022-04-23T21:36:57.260751Z"
        },
        "trusted": true,
        "id": "yV_-YCxDvFL-"
      },
      "execution_count": null,
      "outputs": []
    },
    {
      "cell_type": "code",
      "source": [
        "history = InceptionV3_conv.fit_generator( train_generator,steps_per_epoch=nb_train_steps,epochs=30,validation_data=validation_generator,\n",
        "validation_steps=nb_val_steps, callbacks = callbacks)"
      ],
      "metadata": {
        "execution": {
          "iopub.status.busy": "2022-04-24T02:11:11.619084Z",
          "iopub.execute_input": "2022-04-24T02:11:11.619372Z",
          "iopub.status.idle": "2022-04-24T02:22:28.288173Z",
          "shell.execute_reply.started": "2022-04-24T02:11:11.619341Z",
          "shell.execute_reply": "2022-04-24T02:22:28.28725Z"
        },
        "trusted": true,
        "id": "bWpBuQ5gvFL-"
      },
      "execution_count": null,
      "outputs": []
    },
    {
      "cell_type": "code",
      "source": [
        "#history = ptionResnet_conv.fit_generator( train_generator,steps_per_epoch=nb_train_steps,epochs=2,validation_data=validation_generator,\n",
        "#validation_steps=nb_val_steps, callbacks = callbacks)"
      ],
      "metadata": {
        "execution": {
          "iopub.status.busy": "2022-04-23T21:36:57.263314Z",
          "iopub.execute_input": "2022-04-23T21:36:57.263991Z",
          "iopub.status.idle": "2022-04-23T21:36:57.271246Z",
          "shell.execute_reply.started": "2022-04-23T21:36:57.263942Z",
          "shell.execute_reply": "2022-04-23T21:36:57.270436Z"
        },
        "trusted": true,
        "id": "deFqBy-zvFL-"
      },
      "execution_count": null,
      "outputs": []
    },
    {
      "cell_type": "code",
      "source": [
        "def show_history(history):\n",
        "    fig, ax = plt.subplots(1, 3, figsize=(15,5))\n",
        "    ax[0].set_title('loss')\n",
        "    ax[0].plot(history.epoch, history.history[\"loss\"], label=\"Train loss\")\n",
        "    ax[0].plot(history.epoch, history.history[\"val_loss\"], label=\"Validation loss\")\n",
        "    ax[1].set_title('kappa_keras')\n",
        "    ax[1].plot(history.epoch, history.history[\"kappa_keras\"], label=\"Train Quadratic Kappa score\")\n",
        "    ax[1].plot(history.epoch, history.history[\"val_kappa_keras\"], label=\"Validation Quadratic Kappa score\")\n",
        "    ax[2].set_title('accuracy')\n",
        "    ax[2].plot(history.epoch, history.history[\"accuracy\"], label=\"Train acc\")\n",
        "    ax[2].plot(history.epoch, history.history[\"val_accuracy\"], label=\"Validation accuracy\")\n",
        "    ax[0].legend()\n",
        "    ax[1].legend()\n",
        "    ax[2].legend()"
      ],
      "metadata": {
        "execution": {
          "iopub.status.busy": "2022-04-23T21:36:57.272654Z",
          "iopub.execute_input": "2022-04-23T21:36:57.273207Z",
          "iopub.status.idle": "2022-04-23T21:36:57.291008Z",
          "shell.execute_reply.started": "2022-04-23T21:36:57.273169Z",
          "shell.execute_reply": "2022-04-23T21:36:57.289558Z"
        },
        "trusted": true,
        "id": "XM-t6QqhvFL-"
      },
      "execution_count": null,
      "outputs": []
    },
    {
      "cell_type": "code",
      "source": [
        "show_history(history)"
      ],
      "metadata": {
        "execution": {
          "iopub.status.busy": "2022-04-23T22:14:18.65156Z",
          "iopub.execute_input": "2022-04-23T22:14:18.651841Z",
          "iopub.status.idle": "2022-04-23T22:14:19.075231Z",
          "shell.execute_reply.started": "2022-04-23T22:14:18.651815Z",
          "shell.execute_reply": "2022-04-23T22:14:19.074443Z"
        },
        "trusted": true,
        "id": "I3IyRG3qvFL-"
      },
      "execution_count": null,
      "outputs": []
    },
    {
      "cell_type": "code",
      "source": [
        "#vgg_baseline = Model.save('VGG16_Baseline.h5')  # creates a HDF5 file 'my_model.h5'\n",
        "#InceptionV3_baseline =InceptionV3_conv.save('InceptionV3_Baseline.h5')  # creates a HDF5 file 'my_model.h5'\n",
        "#Resnet50_baseline =ResNet50_conv.save('ResNet50_Baseline.h5')  # creates a HDF5 file 'my_model.h5'\n",
        "#InceptionResnet_baseline =InceptionResnet_conv.save('InceptionResnet_Baseline.h5')  # creates a HDF5 file 'my_model.h5'"
      ],
      "metadata": {
        "execution": {
          "iopub.status.busy": "2022-04-23T21:36:57.934575Z",
          "iopub.execute_input": "2022-04-23T21:36:57.935049Z",
          "iopub.status.idle": "2022-04-23T21:36:57.938807Z",
          "shell.execute_reply.started": "2022-04-23T21:36:57.935011Z",
          "shell.execute_reply": "2022-04-23T21:36:57.937914Z"
        },
        "trusted": true,
        "id": "EDa2Ej2UvFL-"
      },
      "execution_count": null,
      "outputs": []
    },
    {
      "cell_type": "code",
      "source": [
        "#vgg_baseline_weights = Model.save_weights('vgg_baseline_weights.h5')\n",
        "#InceptionV3_weights =InceptionV3_conv.save_weights('InceptionV3_weights.h5')  # creates a HDF5 file 'my_model.h5'\n",
        "#Resnet50_weights =ResNet50_conv.save_weights('Resnet50_weights.h5')  # creates a HDF5 file 'my_model.h5'\n",
        "#InceptionResnet_weights =InceptionResnet_conv.save_weights('InceptionResnet_weights.h5')  # creates a HDF5 file 'my_model.h5'"
      ],
      "metadata": {
        "execution": {
          "iopub.status.busy": "2022-04-23T21:36:57.940122Z",
          "iopub.execute_input": "2022-04-23T21:36:57.940691Z",
          "iopub.status.idle": "2022-04-23T21:36:57.961369Z",
          "shell.execute_reply.started": "2022-04-23T21:36:57.940616Z",
          "shell.execute_reply": "2022-04-23T21:36:57.960721Z"
        },
        "trusted": true,
        "id": "NumGTwLZvFL-"
      },
      "execution_count": null,
      "outputs": []
    },
    {
      "cell_type": "markdown",
      "source": [
        "Inference\n"
      ],
      "metadata": {
        "id": "uRqEvtTtvFL_"
      }
    },
    {
      "cell_type": "code",
      "source": [
        "os.listdir('.')"
      ],
      "metadata": {
        "execution": {
          "iopub.status.busy": "2022-04-23T21:36:57.96292Z",
          "iopub.execute_input": "2022-04-23T21:36:57.963228Z",
          "iopub.status.idle": "2022-04-23T21:36:57.972092Z",
          "shell.execute_reply.started": "2022-04-23T21:36:57.963193Z",
          "shell.execute_reply": "2022-04-23T21:36:57.97121Z"
        },
        "trusted": true,
        "id": "Z1MioG8PvFL_"
      },
      "execution_count": null,
      "outputs": []
    },
    {
      "cell_type": "code",
      "source": [
        "#InceptionV3_conv.load_weights(\"best_model.h5\")\n",
        "#InceptionResnet_conv.load_weights(\"best_model.h5\")"
      ],
      "metadata": {
        "execution": {
          "iopub.status.busy": "2022-04-23T21:36:57.973713Z",
          "iopub.execute_input": "2022-04-23T21:36:57.974133Z",
          "iopub.status.idle": "2022-04-23T21:36:57.978726Z",
          "shell.execute_reply.started": "2022-04-23T21:36:57.974098Z",
          "shell.execute_reply": "2022-04-23T21:36:57.977987Z"
        },
        "trusted": true,
        "id": "4tGFIRjVvFL_"
      },
      "execution_count": null,
      "outputs": []
    },
    {
      "cell_type": "code",
      "source": [
        "def predict_submission(df, path, passes=1):\n",
        "\n",
        "    df[\"image_path\"] = [path+image_id+\".tiff\" for image_id in df[\"image_id\"]]\n",
        "    df[\"isup_grade\"] = 0\n",
        "\n",
        "    for idx, row in df.iterrows():\n",
        "        prediction_per_pass = []\n",
        "        for i in range(passes):\n",
        "            model_input = np.array([get_random_samples(row.image_path)/255.])\n",
        "            input_image1 = model_input[:,0,:,:]\n",
        "            input_image2 = model_input[:,1,:,:]\n",
        "            input_image3 = model_input[:,2,:,:]\n",
        "\n",
        "            prediction = InceptionV3_conv.predict([input_image1,input_image2,input_image3])\n",
        "            prediction_per_pass.append(np.argmax(prediction))\n",
        "\n",
        "        df.at[idx,\"isup_grade\"] = np.mean(prediction_per_pass)\n",
        "    df = df.drop('image_path', 1)\n",
        "    return df[[\"image_id\",\"isup_grade\"]]"
      ],
      "metadata": {
        "execution": {
          "iopub.status.busy": "2022-04-23T21:36:57.980362Z",
          "iopub.execute_input": "2022-04-23T21:36:57.980665Z",
          "iopub.status.idle": "2022-04-23T21:36:57.991185Z",
          "shell.execute_reply.started": "2022-04-23T21:36:57.98063Z",
          "shell.execute_reply": "2022-04-23T21:36:57.990259Z"
        },
        "trusted": true,
        "id": "9rI9_rCJvFL_"
      },
      "execution_count": null,
      "outputs": []
    },
    {
      "cell_type": "code",
      "source": [
        "# submission code from https://www.kaggle.com/frlemarchand/high-res-samples-into-multi-input-cnn-keras\n",
        "def predict_submission(df, path):\n",
        "\n",
        "    df[\"image_path\"] = [path+image_id+\".tiff\" for image_id in df[\"image_id\"]]\n",
        "    df[\"isup_grade\"] = 0\n",
        "    predictions = []\n",
        "    for idx, row in df.iterrows():\n",
        "        print(row.image_path)\n",
        "        img=skimage.io.imread(str(row.image_path))\n",
        "        img = cv2.resize(img, (224,224))\n",
        "        img = cv2.resize(img, (224,224))\n",
        "        img = img.astype(np.float32)/255.\n",
        "        img=np.reshape(img,(1,224,224,3))\n",
        "\n",
        "\n",
        "        prediction=InceptionV3_conv.predict(img)\n",
        "        predictions.append(np.argmax(prediction))\n",
        "\n",
        "    df[\"isup_grade\"] = predictions\n",
        "    df = df.drop('image_path', 1)\n",
        "    return df[[\"image_id\",\"isup_grade\"]]"
      ],
      "metadata": {
        "execution": {
          "iopub.status.busy": "2022-04-23T21:36:57.992706Z",
          "iopub.execute_input": "2022-04-23T21:36:57.99345Z",
          "iopub.status.idle": "2022-04-23T21:36:58.00517Z",
          "shell.execute_reply.started": "2022-04-23T21:36:57.99341Z",
          "shell.execute_reply": "2022-04-23T21:36:58.004349Z"
        },
        "trusted": true,
        "id": "2IJkJoDNvFL_"
      },
      "execution_count": null,
      "outputs": []
    },
    {
      "cell_type": "code",
      "source": [
        "test_path = \"../input/prostate-cancer-grade-assessment/train_images/\"\n",
        "submission_df = pd.read_csv(\"../input/prostate-cancer-grade-assessment/sample_submission.csv\")\n",
        "\n",
        "if os.path.exists(test_path):\n",
        "    test_df = pd.read_csv(\"../input/bbbbbb/1.csv\")\n",
        "    submission_df = predict_submission(test_df, test_path)\n",
        "else:\n",
        "    print('submission csv not found')\n",
        "\n",
        "\n",
        "\n",
        "submission_df.to_csv('submission.csv', index=False)\n",
        "submission_df"
      ],
      "metadata": {
        "execution": {
          "iopub.status.busy": "2022-04-23T21:36:58.006528Z",
          "iopub.execute_input": "2022-04-23T21:36:58.006982Z",
          "iopub.status.idle": "2022-04-23T21:38:42.284128Z",
          "shell.execute_reply.started": "2022-04-23T21:36:58.006938Z",
          "shell.execute_reply": "2022-04-23T21:38:42.283358Z"
        },
        "trusted": true,
        "id": "DvrKqXBevFMA"
      },
      "execution_count": null,
      "outputs": []
    },
    {
      "cell_type": "code",
      "source": [
        "from sklearn.metrics import accuracy_score,f1_score,confusion_matrix,classification_report,auc,roc_curve,cohen_kappa_score"
      ],
      "metadata": {
        "execution": {
          "iopub.status.busy": "2022-04-23T21:38:42.285402Z",
          "iopub.execute_input": "2022-04-23T21:38:42.28569Z",
          "iopub.status.idle": "2022-04-23T21:38:42.290105Z",
          "shell.execute_reply.started": "2022-04-23T21:38:42.285655Z",
          "shell.execute_reply": "2022-04-23T21:38:42.289412Z"
        },
        "trusted": true,
        "id": "gr3eeTpEvFMB"
      },
      "execution_count": null,
      "outputs": []
    },
    {
      "cell_type": "code",
      "source": [
        "test_df[\"image_path\"] = [path+image_id+\".tiff\" for image_id in test_df[\"image_id\"]]\n",
        "test_df[\"isup_grade\"] = 0\n",
        "predictions = []\n",
        "for idx, row in df.iterrows():\n",
        "        print(row.image_path)\n",
        "        img=skimage.io.imread(str(row.image_path))\n",
        "        img = cv2.resize(img, (224,224))\n",
        "        img = cv2.resize(img, (224,224))\n",
        "        img = img.astype(np.float32)/255.\n",
        "        img=np.reshape(img,(1,224,224,3))\n",
        "\n",
        "\n",
        "        prediction=InceptionV3_conv.predict(img)\n",
        "        predictions.append(np.argmax(prediction))\n",
        "\n",
        "test_df[\"isup_grade\"] = predictions\n",
        "test_df = df.drop('image_path', 1)"
      ],
      "metadata": {
        "execution": {
          "iopub.status.busy": "2022-04-23T21:38:42.291942Z",
          "iopub.execute_input": "2022-04-23T21:38:42.292548Z",
          "iopub.status.idle": "2022-04-23T21:38:42.868844Z",
          "shell.execute_reply.started": "2022-04-23T21:38:42.292499Z",
          "shell.execute_reply": "2022-04-23T21:38:42.867696Z"
        },
        "trusted": true,
        "id": "UiBIhW08vFMB"
      },
      "execution_count": null,
      "outputs": []
    },
    {
      "cell_type": "code",
      "source": [
        "preds= []\n",
        "for i in X_val:\n",
        "    img=skimage.io.imread(i)\n",
        "    img = cv2.resize(img, (224,224))\n",
        "    img = cv2.resize(img, (224,224))\n",
        "    img = img.astype(np.float32)/255.\n",
        "    img=np.reshape(img,(1,224,224,3))\n",
        "\n",
        "    prediction=InceptionV3_conv.predict(img)\n",
        "    preds.append(np.argmax(prediction))\n",
        "\n",
        "\n",
        "accuracy_score(y_val,preds)"
      ],
      "metadata": {
        "execution": {
          "iopub.status.busy": "2022-04-24T02:22:50.385661Z",
          "iopub.execute_input": "2022-04-24T02:22:50.385951Z",
          "iopub.status.idle": "2022-04-24T02:23:52.514469Z",
          "shell.execute_reply.started": "2022-04-24T02:22:50.385915Z",
          "shell.execute_reply": "2022-04-24T02:23:52.513647Z"
        },
        "trusted": true,
        "id": "43x1P8OGvFMB"
      },
      "execution_count": null,
      "outputs": []
    },
    {
      "cell_type": "code",
      "source": [],
      "metadata": {
        "id": "pZArcLk0vFMB"
      },
      "execution_count": null,
      "outputs": []
    },
    {
      "cell_type": "code",
      "source": [
        "print(\"accuracy_score:\",accuracy_score(y_val,preds))"
      ],
      "metadata": {
        "execution": {
          "iopub.status.busy": "2022-04-24T01:55:19.116788Z",
          "iopub.execute_input": "2022-04-24T01:55:19.117077Z",
          "iopub.status.idle": "2022-04-24T01:55:19.123989Z",
          "shell.execute_reply.started": "2022-04-24T01:55:19.117048Z",
          "shell.execute_reply": "2022-04-24T01:55:19.123234Z"
        },
        "trusted": true,
        "id": "7GIVyDwcvFMB"
      },
      "execution_count": null,
      "outputs": []
    },
    {
      "cell_type": "code",
      "source": [
        "confusion_matrix(y_val,preds,normalize='true')"
      ],
      "metadata": {
        "execution": {
          "iopub.status.busy": "2022-04-24T02:01:18.839462Z",
          "iopub.execute_input": "2022-04-24T02:01:18.839913Z",
          "iopub.status.idle": "2022-04-24T02:01:18.853395Z",
          "shell.execute_reply.started": "2022-04-24T02:01:18.839873Z",
          "shell.execute_reply": "2022-04-24T02:01:18.852377Z"
        },
        "trusted": true,
        "id": "3356p1glvFMB"
      },
      "execution_count": null,
      "outputs": []
    },
    {
      "cell_type": "code",
      "source": [
        "f,ax=plt.subplots(1,1,figsize=(12,10))\n",
        "sns.heatmap(confusion_matrix(y_val,preds,normalize='true'),annot=True,fmt='2.3f')\n"
      ],
      "metadata": {
        "execution": {
          "iopub.status.busy": "2022-04-24T02:02:47.679719Z",
          "iopub.execute_input": "2022-04-24T02:02:47.679999Z",
          "iopub.status.idle": "2022-04-24T02:02:48.021286Z",
          "shell.execute_reply.started": "2022-04-24T02:02:47.679972Z",
          "shell.execute_reply": "2022-04-24T02:02:48.020568Z"
        },
        "trusted": true,
        "id": "tnLehbU-vFMB"
      },
      "execution_count": null,
      "outputs": []
    },
    {
      "cell_type": "code",
      "source": [
        "print(metrics.classification_report(y_val,preds))\n"
      ],
      "metadata": {
        "execution": {
          "iopub.status.busy": "2022-04-24T02:10:27.412682Z",
          "iopub.execute_input": "2022-04-24T02:10:27.412958Z",
          "iopub.status.idle": "2022-04-24T02:10:27.429579Z",
          "shell.execute_reply.started": "2022-04-24T02:10:27.412932Z",
          "shell.execute_reply": "2022-04-24T02:10:27.42885Z"
        },
        "trusted": true,
        "id": "Pmt9VT0YvFMB"
      },
      "execution_count": null,
      "outputs": []
    }
  ]
}